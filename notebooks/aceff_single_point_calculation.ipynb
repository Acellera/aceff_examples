{
 "cells": [
  {
   "cell_type": "code",
   "execution_count": null,
   "metadata": {},
   "outputs": [],
   "source": [
    "# Execute this cell to setup the python env in the Colab environment\n",
    "!pip install -q condacolab\n",
    "import condacolab\n",
    "condacolab.install_mambaforge()\n",
    "!rm -rf /usr/local/conda-meta/pinned # remove pins so we can use cuda 11.8\n",
    "!mamba install torchmd-net=*=cuda118*\n",
    "!mamba install ase\n"
   ]
  },
  {
   "cell_type": "code",
   "execution_count": null,
   "metadata": {},
   "outputs": [],
   "source": [
    "# install the AceFF examples code\n",
    "!pip install git+https://github.com/Acellera/aceff_examples.git"
   ]
  },
  {
   "cell_type": "code",
   "execution_count": null,
   "metadata": {},
   "outputs": [],
   "source": [
    "# install huggingface_hub\n",
    "!pip install huggingface_hub"
   ]
  },
  {
   "cell_type": "code",
   "execution_count": null,
   "metadata": {},
   "outputs": [],
   "source": [
    "# log into HuggingFace\n",
    "\n",
    "from huggingface_hub import login\n",
    "\n",
    "# Create a HuggingFace token to access public gated repos: https://huggingface.co/settings/tokens\n",
    "# And paste your token here (keep it secret!)\n",
    "login(TOKEN)"
   ]
  },
  {
   "cell_type": "code",
   "execution_count": null,
   "metadata": {},
   "outputs": [],
   "source": [
    "# download the model\n",
    "from huggingface_hub import hf_hub_download\n",
    "\n",
    "model_file_path = hf_hub_download(\n",
    "    repo_id=\"Acellera/AceFF-1.0\",\n",
    "    filename=\"aceff_v1.0.ckpt\"\n",
    ")\n",
    "\n",
    "print(\"Downloaded to:\", model_file_path)"
   ]
  },
  {
   "cell_type": "code",
   "execution_count": null,
   "metadata": {},
   "outputs": [],
   "source": [
    "# download the example ligand and protein file\n",
    "!wget https://raw.githubusercontent.com/Acellera/aceff_examples/refs/heads/main/notebooks/ejm_31_ligand.sdf"
   ]
  },
  {
   "cell_type": "code",
   "execution_count": null,
   "metadata": {},
   "outputs": [],
   "source": [
    "from aceff_examples.ase_calculator import AceFFCalculator\n",
    "from ase.io import read\n",
    "\n",
    "atoms = read(\"ejm_31_ligand.sdf\")\n",
    "atoms.calc = AceFFCalculator(model_file=model_file_path,  device='cpu')\n",
    "E = atoms.get_potential_energy()\n",
    "F = atoms.get_forces()\n",
    "print(E)\n",
    "print(F)"
   ]
  }
 ],
 "metadata": {
  "kernelspec": {
   "display_name": "aceff_conda",
   "language": "python",
   "name": "python3"
  },
  "language_info": {
   "codemirror_mode": {
    "name": "ipython",
    "version": 3
   },
   "file_extension": ".py",
   "mimetype": "text/x-python",
   "name": "python",
   "nbconvert_exporter": "python",
   "pygments_lexer": "ipython3",
   "version": "3.12.9"
  }
 },
 "nbformat": 4,
 "nbformat_minor": 2
}
