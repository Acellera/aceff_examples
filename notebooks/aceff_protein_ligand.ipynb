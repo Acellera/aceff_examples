{
  "cells": [
    {
      "cell_type": "markdown",
      "metadata": {},
      "source": [
        "# MM/ML protein ligand MD with OpenMM\n",
        "\n",
        "This example runs molecular dynamics of a small molecule using AceFF1.1 as a ML potential. It uses [OpenMM](https://openmm.org/) and [OpenMM-ML](https://github.com/openmm/openmm-ml).\n",
        "\n",
        "It uses our code from [aceff_examples](https://github.com/Acellera/aceff_examples) that implements torchmdnet as an OpenMM-ML MLPotential.\n",
        "\n",
        "\n",
        "**Before running you will need to change the runtime type on Colab to GPU!**"
      ]
    },
    {
      "cell_type": "code",
      "execution_count": null,
      "metadata": {
        "collapsed": true,
        "id": "k0dgm1uk3muS"
      },
      "outputs": [],
      "source": [
        "# Execute this cell to setup the python env in the Colab environment\n",
        "if 'google.colab' in str(get_ipython()):\n",
        "    print('Running on colab')\n",
        "    !pip install -q condacolab\n",
        "    import condacolab\n",
        "    condacolab.install_mambaforge()\n",
        "    !rm -rf /usr/local/conda-meta/pinned # remove pins so we can use cuda 11.8\n",
        "    import os\n",
        "    os.environ[\"CONDA_OVERRIDE_CUDA\"] = \"11.8\"\n",
        "    !mamba install torchmd-net=*=cuda118*\n",
        "    !mamba install openmm-torch=*=cuda118*\n",
        "    !mamba install -c conda-forge openmm-ml\n",
        "    !mamba install -c conda-forge openmmforcefields\n",
        "else:\n",
        "    print('Not running on colab.')\n",
        "    print('Make sure you create and activate a new conda environment!')\n",
        "    print('Please install the above packages.')"
      ]
    },
    {
      "cell_type": "code",
      "execution_count": null,
      "metadata": {},
      "outputs": [],
      "source": [
        "# install the AceFF examples code\n",
        "!pip install git+https://github.com/Acellera/aceff_examples.git"
      ]
    },
    {
      "cell_type": "code",
      "execution_count": null,
      "metadata": {},
      "outputs": [],
      "source": [
        "# log into HuggingFace\n",
        "\n",
        "from huggingface_hub import login\n",
        "\n",
        "# Create a HuggingFace token to access public gated repos: https://huggingface.co/settings/tokens\n",
        "# And paste your token here (keep it secret!)\n",
        "login(TOKEN)"
      ]
    },
    {
      "cell_type": "markdown",
      "metadata": {},
      "source": [
        "Before you can download the model you must accept the liscence, please go to:\n",
        "https://huggingface.co/Acellera/AceFF-1.1"
      ]
    },
    {
      "cell_type": "code",
      "execution_count": null,
      "metadata": {},
      "outputs": [],
      "source": [
        "# download the model\n",
        "from huggingface_hub import hf_hub_download\n",
        "\n",
        "model_file_path = hf_hub_download(\n",
        "    repo_id=\"Acellera/AceFF-1.1\",\n",
        "    filename=\"aceff_v1.1.ckpt\"\n",
        ")\n",
        "\n",
        "print(\"Downloaded to:\", model_file_path)"
      ]
    },
    {
      "cell_type": "code",
      "execution_count": null,
      "metadata": {},
      "outputs": [],
      "source": [
        "# download the example ligand and protein file\n",
        "!wget https://raw.githubusercontent.com/Acellera/aceff_examples/refs/heads/main/notebooks/ejm_31_ligand.sdf\n",
        "!wget https://raw.githubusercontent.com/Acellera/aceff_examples/refs/heads/main/notebooks/Tyk2.pdb"
      ]
    },
    {
      "cell_type": "code",
      "execution_count": null,
      "metadata": {
        "colab": {
          "base_uri": "https://localhost:8080/"
        },
        "id": "usosj96e6NGm",
        "outputId": "d59f227f-888e-4d64-a1ab-c06e0047bb70"
      },
      "outputs": [],
      "source": [
        "import openmm.app as app\n",
        "import openmm as mm\n",
        "import openmm.unit as unit\n",
        "from sys import stdout\n",
        "from openmmforcefields.generators import GAFFTemplateGenerator\n",
        "from openff.toolkit import Molecule\n",
        "from openff.toolkit import Topology as offTopology\n",
        "from openff.units.openmm import to_openmm as offquantity_to_openmm\n",
        "from openmmml import MLPotential\n",
        "# this import registers the model with openmm-ml\n",
        "from aceff_examples import torchmdnetpotential\n",
        "\n",
        "\n",
        "# user supplied paths\n",
        "ligand_sdf_path = \"ejm_31_ligand.sdf\"\n",
        "protein_pdb_path = \"Tyk2.pdb\" \n",
        "\n",
        "\n",
        "# MD settings\n",
        "timestep = 1.0*unit.femtosecond\n",
        "hmr = 4*unit.amu\n",
        "total_steps = 10000\n",
        "output_freq = 1000\n",
        "\n",
        "\n",
        "# Load in the protein from a PDB file\n",
        "protein_pdb = app.PDBFile(protein_pdb_path)\n",
        "\n",
        "# load the ligand with OpenFF\n",
        "ligand = Molecule.from_file(ligand_sdf_path)\n",
        "\n",
        "# setup GAFF for the ligand\n",
        "gaff = GAFFTemplateGenerator(molecules=ligand)\n",
        "\n",
        "# Create an OpenMM ForceField object with AMBER ff14SB and TIP3P\n",
        "ff = app.ForceField('amber/protein.ff14SB.xml', 'amber14/tip3p.xml')\n",
        "ff.registerTemplateGenerator(gaff.generator)\n",
        "\n",
        "# make an OpenMM Modeller object with the protein\n",
        "modeller = app.Modeller(protein_pdb.topology, protein_pdb.positions)\n",
        "\n",
        "# make an OpenFF Topology of the ligand\n",
        "ligand_off_topology = offTopology.from_molecules(molecules=[ligand])\n",
        "\n",
        "# get the total ligand charge\n",
        "ligand_charge = int(sum( [ atom.formal_charge.magnitude for atom in ligand_off_topology.atoms]))\n",
        "\n",
        "# convert it to an OpenMM Topology\n",
        "ligand_omm_topology = ligand_off_topology.to_openmm()\n",
        "\n",
        "# get the positions of the ligand\n",
        "ligand_positions = offquantity_to_openmm(ligand.conformers[0])\n",
        "\n",
        "# add the ligand to the Modeller\n",
        "modeller.add(ligand_omm_topology, ligand_positions)\n",
        "\n",
        "# solvate\n",
        "modeller.addSolvent(ff, padding=1.0*unit.nanometer, ionicStrength=0.15*unit.molar)\n",
        "\n",
        "# create OpenMM system\n",
        "mm_system = ff.createSystem(modeller.topology, nonbondedMethod=app.PME, constraints=app.HBonds, nonbondedCutoff=1.0*unit.nanometer, hydrogenMass=hmr, removeCMMotion=False)\n",
        "\n",
        "\n",
        "# setup the ML Potential\n",
        "# get the indicies of the ligand\n",
        "chains = list(modeller.topology.chains())\n",
        "ml_atoms = [atom.index for atom in chains[1].atoms()]\n",
        "ligand_charges = int()\n",
        "group_indices = [ml_atoms] # list of lists so molecules can be batched if needed\n",
        "\n",
        "# create the ML potential with AceFF\n",
        "potential = MLPotential('TorchMD-NET', model_file=model_file_path, group_indices=group_indices, molecule_charges=[ligand_charge], max_num_neighbors=40)\n",
        "\n",
        "# create the MM/ML system\n",
        "# here ml_atoms is a single list of all ML atoms\n",
        "ml_system = potential.createMixedSystem(modeller.topology, mm_system, ml_atoms)\n",
        "integrator = mm.LangevinMiddleIntegrator(300*unit.kelvin, 1/unit.picosecond, timestep)\n",
        "simulation = app.Simulation(modeller.topology, ml_system, integrator)\n",
        "\n",
        "\n",
        "# set the positions\n",
        "simulation.context.setPositions(modeller.positions)\n",
        "\n",
        "# Save the toplogy as a PDB file.\n",
        "with open(f'topology.pdb', 'w') as output:\n",
        "    app.PDBFile.writeFile(simulation.topology, simulation.context.getState(getPositions=True).getPositions(),output)\n",
        "\n",
        "\n",
        "print(\"Minimizing energy...\")\n",
        "simulation.minimizeEnergy(maxIterations=1000)\n",
        "\n",
        "simulation.context.setVelocitiesToTemperature(300*unit.kelvin)\n",
        "simulation.reporters.append(app.XTCReporter(f'traj.xtc', output_freq))\n",
        "\n",
        "simulation.reporters.append(app.StateDataReporter(stdout, output_freq, step=True,\n",
        "        potentialEnergy=True, temperature=True, volume=True, speed=True))\n",
        "\n",
        "print(\"Running simulation...\")\n",
        "simulation.step(total_steps)\n",
        "\n",
        "\n",
        "\n",
        "\n"
      ]
    }
  ],
  "metadata": {
    "accelerator": "GPU",
    "colab": {
      "gpuType": "T4",
      "provenance": []
    },
    "kernelspec": {
      "display_name": "aceff_conda",
      "language": "python",
      "name": "python3"
    },
    "language_info": {
      "codemirror_mode": {
        "name": "ipython",
        "version": 3
      },
      "file_extension": ".py",
      "mimetype": "text/x-python",
      "name": "python",
      "nbconvert_exporter": "python",
      "pygments_lexer": "ipython3",
      "version": "3.12.9"
    }
  },
  "nbformat": 4,
  "nbformat_minor": 0
}
