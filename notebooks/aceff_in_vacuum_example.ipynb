{
  "cells": [
    {
      "cell_type": "code",
      "execution_count": null,
      "metadata": {
        "collapsed": true,
        "id": "k0dgm1uk3muS"
      },
      "outputs": [],
      "source": [
        "# Execute this cell to setup the python env in the Colab environment\n",
        "!pip install -q condacolab\n",
        "import condacolab\n",
        "condacolab.install_mambaforge()\n",
        "!rm -rf /usr/local/conda-meta/pinned # remove pins so we can use cuda 11.8\n",
        "!mamba install torchmd-net=*=cuda118*\n",
        "!mamba install openmm-torch=*=cuda118*\n",
        "!mamba install -c conda-forge openmm-ml\n",
        "!mamba install -c conda-forge openmmforcefields"
      ]
    },
    {
      "cell_type": "code",
      "execution_count": null,
      "metadata": {
        "colab": {
          "base_uri": "https://localhost:8080/"
        },
        "id": "usosj96e6NGm",
        "outputId": "98c1b3c3-d174-485e-88c0-16eb6959fdbe"
      },
      "outputs": [],
      "source": [
        "import openmm.app as app\n",
        "import openmm as mm\n",
        "import openmm.unit as unit\n",
        "from sys import stdout\n",
        "from openff.toolkit import Molecule\n",
        "from openff.toolkit import Topology as offTopology\n",
        "from openff.units.openmm import to_openmm as offquantity_to_openmm\n",
        "from openmmml import MLPotential\n",
        "# this import registers the model with openmm-ml\n",
        "from aceff_examples import torchmdnetpotential\n",
        "\n",
        "\n",
        "#user supplied paths\n",
        "sdfname = \"ejm_31_ligand.sdf\"\n",
        "model_file = \"../models/aceff_1.1.ckpt\"\n",
        "\n",
        "\n",
        "# Load the ligand with OpenFF toolkit\n",
        "ligand = Molecule.from_file(sdfname)\n",
        "\n",
        "# make an OpenFF Topology of the ligand\n",
        "ligand_off_topology = offTopology.from_molecules(molecules=[ligand])\n",
        "\n",
        "# get the total molecule charge\n",
        "molecule_charge = int(sum( [ atom.formal_charge.magnitude for atom in ligand_off_topology.atoms]))\n",
        "\n",
        "# convert it to an OpenMM Topology\n",
        "ligand_omm_topology = ligand_off_topology.to_openmm()\n",
        "\n",
        "# get the positions of the ligand\n",
        "ligand_positions = offquantity_to_openmm(ligand.conformers[0])\n",
        "\n",
        "# get the indicies\n",
        "# this is a list of list so molecules can be batched if needed\n",
        "group_indices=[list(range(ligand_off_topology.n_atoms))]\n",
        "\n",
        "# create the ML potential with AceFF\n",
        "potential = MLPotential('TorchMD-NET', model_file=model_file, group_indices=group_indices, molecule_charges=[molecule_charge], max_num_neighbors=40)\n",
        "\n",
        "# create the OpenMM system\n",
        "system = potential.createSystem(ligand_omm_topology)\n",
        "\n",
        "integrator = mm.LangevinMiddleIntegrator(300*unit.kelvin, 1.0/unit.picosecond, 1.0*unit.femtoseconds)\n",
        "simulation = app.Simulation(ligand_omm_topology, system, integrator, platform = mm.Platform.getPlatformByName('CUDA'))\n",
        "\n",
        "# set the positions\n",
        "simulation.context.setPositions(ligand_positions)\n",
        "\n",
        "print(\"Minimizing energy...\")\n",
        "simulation.minimizeEnergy(maxIterations=1000)\n",
        "\n",
        "simulation.context.setVelocitiesToTemperature(300*unit.kelvin)\n",
        "\n",
        "simulation.reporters.append(app.PDBReporter(f'traj.pdb', 1000))\n",
        "\n",
        "simulation.reporters.append(app.StateDataReporter(stdout, 1000, step=True,\n",
        "        potentialEnergy=True, temperature=True, speed=True))\n",
        "\n",
        "print(\"Running simulation...\")\n",
        "simulation.step(10000)\n",
        "\n",
        "\n",
        "\n",
        "\n",
        "\n"
      ]
    }
  ],
  "metadata": {
    "accelerator": "GPU",
    "colab": {
      "gpuType": "T4",
      "provenance": []
    },
    "kernelspec": {
      "display_name": "aceff_conda",
      "language": "python",
      "name": "python3"
    },
    "language_info": {
      "codemirror_mode": {
        "name": "ipython",
        "version": 3
      },
      "file_extension": ".py",
      "mimetype": "text/x-python",
      "name": "python",
      "nbconvert_exporter": "python",
      "pygments_lexer": "ipython3",
      "version": "3.12.9"
    }
  },
  "nbformat": 4,
  "nbformat_minor": 0
}
