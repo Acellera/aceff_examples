{
 "cells": [
  {
   "cell_type": "code",
   "execution_count": null,
   "metadata": {},
   "outputs": [],
   "source": [
    "# Execute this cell to setup the python env in the Colab environment\n",
    "!pip install -q condacolab\n",
    "import condacolab\n",
    "condacolab.install_mambaforge()\n",
    "!rm -rf /usr/local/conda-meta/pinned # remove pins so we can use cuda 11.8\n",
    "!mamba install torchmd-net=*=cuda118*\n",
    "!mamba install ase\n"
   ]
  },
  {
   "cell_type": "code",
   "execution_count": null,
   "metadata": {},
   "outputs": [],
   "source": [
    "from aceff_examples.ase_calculator import AceFFCalculator\n",
    "from ase.io import read\n",
    "\n",
    "if __name__ == \"__main__\":\n",
    "\n",
    "    atoms = read(\"ejm_31_ligand.sdf\")\n",
    "    atoms.calc = AceFFCalculator(model_file=\"../models/aceff_1.1.ckpt\",  device='cpu')\n",
    "    E = atoms.get_potential_energy()\n",
    "    F = atoms.get_forces()\n",
    "    print(E)\n",
    "    print(F)"
   ]
  }
 ],
 "metadata": {
  "kernelspec": {
   "display_name": "aceff_conda",
   "language": "python",
   "name": "python3"
  },
  "language_info": {
   "codemirror_mode": {
    "name": "ipython",
    "version": 3
   },
   "file_extension": ".py",
   "mimetype": "text/x-python",
   "name": "python",
   "nbconvert_exporter": "python",
   "pygments_lexer": "ipython3",
   "version": "3.12.9"
  }
 },
 "nbformat": 4,
 "nbformat_minor": 2
}
